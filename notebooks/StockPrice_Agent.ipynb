{
  "nbformat": 4,
  "nbformat_minor": 0,
  "metadata": {
    "colab": {
      "provenance": [],
      "authorship_tag": "ABX9TyMObTybWhnkHgPoscrD8FL5",
      "include_colab_link": true
    },
    "kernelspec": {
      "name": "python3",
      "display_name": "Python 3"
    },
    "language_info": {
      "name": "python"
    }
  },
  "cells": [
    {
      "cell_type": "markdown",
      "metadata": {
        "id": "view-in-github",
        "colab_type": "text"
      },
      "source": [
        "<a href=\"https://colab.research.google.com/github/Soma-codeAI/Google_ADK_Examples/blob/main/notebooks/StockPrice_Agent.ipynb\" target=\"_parent\"><img src=\"https://colab.research.google.com/assets/colab-badge.svg\" alt=\"Open In Colab\"/></a>"
      ]
    },
    {
      "cell_type": "code",
      "source": [
        "%pip install yfinance"
      ],
      "metadata": {
        "id": "3fVLAebROm3k"
      },
      "execution_count": null,
      "outputs": []
    },
    {
      "cell_type": "code",
      "source": [
        "from google.colab import auth\n",
        "\n",
        "auth.authenticate_user(project_id=\"<Project_ID>\")"
      ],
      "metadata": {
        "id": "yA7k6GWe-UKM"
      },
      "execution_count": null,
      "outputs": []
    },
    {
      "cell_type": "code",
      "source": [
        "import vertexai\n",
        "from vertexai import agent_engines\n",
        "\n",
        "vertexai.init(\n",
        "    project=\"<Project_ID>\",\n",
        "    location=\"us-east4\",\n",
        "    staging_bucket=\"<Gcloud Storage Bucket>\",\n",
        ")"
      ],
      "metadata": {
        "id": "ygY7sm8t9eRT"
      },
      "execution_count": null,
      "outputs": []
    },
    {
      "cell_type": "code",
      "source": [
        "# Set up guardrails for the model\n",
        "from google.genai import types\n",
        "\n",
        "safety_settings = [\n",
        "    types.SafetySetting(\n",
        "        category=types.HarmCategory.HARM_CATEGORY_DANGEROUS_CONTENT,\n",
        "        threshold=types.HarmBlockThreshold.OFF,\n",
        "    ),\n",
        "]"
      ],
      "metadata": {
        "id": "vjotm7vR-s1o"
      },
      "execution_count": null,
      "outputs": []
    },
    {
      "cell_type": "code",
      "source": [
        "# Content Generation parameters, This is where you get your model to be creative\n",
        "from google.genai import types\n",
        "\n",
        "\n",
        "generate_content_config = types.GenerateContentConfig(\n",
        "   safety_settings=safety_settings,\n",
        "   temperature=0.28,\n",
        "   max_output_tokens=1000,\n",
        "   top_p=0.95,\n",
        ")"
      ],
      "metadata": {
        "id": "hwBJXWEo-znm"
      },
      "execution_count": null,
      "outputs": []
    },
    {
      "cell_type": "code",
      "source": [
        "from vertexai.preview import reasoning_engines\n",
        "\n",
        "app = reasoning_engines.AdkApp(\n",
        "    agent=stock_price_agent,\n",
        "    enable_tracing=True,\n",
        ")"
      ],
      "metadata": {
        "id": "QXszjluMKPV8"
      },
      "execution_count": null,
      "outputs": []
    },
    {
      "cell_type": "code",
      "execution_count": null,
      "metadata": {
        "id": "-ETvTtGMOQ-X"
      },
      "outputs": [],
      "source": [
        "# Copyright 2025 Google LLC\n",
        "#\n",
        "# Licensed under the Apache License, Version 2.0 (the \"License\");\n",
        "# you may not use this file except in compliance with the License.\n",
        "# You may obtain a copy of the License at\n",
        "#\n",
        "#     http://www.apache.org/licenses/LICENSE-2.0\n",
        "#\n",
        "# Unless required by applicable law or agreed to in writing, software\n",
        "# distributed under the License is distributed on an \"AS IS\" BASIS,\n",
        "# WITHOUT WARRANTIES OR CONDITIONS OF ANY KIND, either express or implied.\n",
        "# See the License for the specific language governing permissions and\n",
        "# limitations under the License.\n",
        "\n",
        "import datetime\n",
        "import requests\n",
        "from zoneinfo import ZoneInfo\n",
        "from google.adk.agents import Agent\n",
        "from vertexai.preview.reasoning_engines import AdkApp\n",
        "from vertexai.generative_models import FunctionDeclaration, Tool, Part\n",
        "from google.adk.tools import FunctionTool\n",
        "from google.adk.runners import Runner\n",
        "from google.adk.sessions import InMemorySessionService\n",
        "from google.genai import types\n",
        "\n",
        "import yfinance as yf\n",
        "\n",
        "\n",
        "model1 = vertexai.generative_models.GenerativeModel(model_name=\"gemini-2.0-flash\")\n",
        "GOOGLE_GENAI_USE_VERTEXAI='TRUE'\n",
        "\n",
        "APP_NAME = \"stock_app\"\n",
        "USER_ID = \"1234\"\n",
        "SESSION_ID = \"session1234\"\n",
        "\n",
        "def get_stock_price(symbol: str):\n",
        "    \"\"\"\n",
        "    Retrieves the current stock price for a given symbol.\n",
        "\n",
        "    Args:\n",
        "        symbol (str): The stock symbol (e.g., \"AAPL\", \"GOOG\").\n",
        "\n",
        "    Returns:\n",
        "        float: The current stock price, or None if an error occurs.\n",
        "    \"\"\"\n",
        "    try:\n",
        "        stock = yf.Ticker(symbol)\n",
        "        historical_data = stock.history(period=\"1d\")\n",
        "        if not historical_data.empty:\n",
        "            current_price = historical_data['Close'].iloc[-1]\n",
        "            return current_price\n",
        "        else:\n",
        "            return None\n",
        "    except Exception as e:\n",
        "        print(f\"Error retrieving stock price for {symbol}: {e}\")\n",
        "        return None\n",
        "\n",
        "stock_price_agent = Agent(\n",
        "    name='stock_agent',\n",
        "    model = \"gemini-2.0-flash\",                 # Required.\n",
        "    generate_content_config=generate_content_config,  # Optional.\n",
        "    instruction= 'You are an agent who retrieves stock prices. If a ticker symbol is provided, fetch the current price. If only a company name is given, first perform a Google search to find the correct ticker symbol before retrieving the stock price. If the provided ticker symbol is invalid or data cannot be retrieved, inform the user that the stock price could not be found.',\n",
        "    description='This agent specializes in retrieving real-time stock prices. Given a stock ticker symbol (e.g., AAPL, GOOG, MSFT) or the stock name, use the tools and reliable data sources to provide the most up-to-date price.',\n",
        "    tools=[get_stock_price]# You can add Python functions directly to the tools list; they will be automatically wrapped as FunctionTools.\n",
        "    )\n",
        "\n",
        "app = AdkApp(agent=stock_price_agent)"
      ]
    },
    {
      "cell_type": "code",
      "source": [
        "app.list_sessions(user_id=\"u_123\")\n",
        "session = app.create_session(user_id=\"u_123\")\n",
        "\n",
        "for event in app.stream_query(\n",
        "      user_id=\"u_123\",\n",
        "      session_id=session.id,\n",
        "      message=\"stock price of GOOG\",\n",
        "    ):\n",
        "      print(event)"
      ],
      "metadata": {
        "id": "ERk7ms9MPBIC"
      },
      "execution_count": null,
      "outputs": []
    }
  ]
}